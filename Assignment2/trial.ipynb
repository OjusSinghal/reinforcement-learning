{
 "cells": [
  {
   "cell_type": "code",
   "execution_count": null,
   "metadata": {},
   "outputs": [
    {
     "ename": "",
     "evalue": "",
     "output_type": "error",
     "traceback": [
      "\u001b[1;31mFailed to start the Kernel. \n",
      "\u001b[1;31mTraceback (most recent call last):\n",
      "\u001b[1;31m  File \"/home/ojus/.vscode/extensions/ms-toolsai.jupyter-2022.9.1202862440/pythonFiles/vscode_datascience_helpers/jupyter_daemon.py\", line 158, in _start_notebook\n",
      "\u001b[1;31m    from notebook import notebookapp as app\n",
      "\u001b[1;31m  File \"/home/ojus/.local/lib/python3.10/site-packages/notebook/notebookapp.py\", line 79, in <module>\n",
      "\u001b[1;31m    from .services.contents.manager import ContentsManager\n",
      "\u001b[1;31m  File \"/home/ojus/.local/lib/python3.10/site-packages/notebook/services/contents/manager.py\", line 17, in <module>\n",
      "\u001b[1;31m    from nbformat import sign, validate as validate_nb, ValidationError\n",
      "\u001b[1;31m  File \"/home/ojus/.local/lib/python3.10/site-packages/nbformat/__init__.py\", line 11, in <module>\n",
      "\u001b[1;31m    from . import v1, v2, v3, v4\n",
      "\u001b[1;31m  File \"/home/ojus/.local/lib/python3.10/site-packages/nbformat/v4/__init__.py\", line 39, in <module>\n",
      "\u001b[1;31m    from .convert import downgrade, upgrade\n",
      "\u001b[1;31m  File \"/home/ojus/.local/lib/python3.10/site-packages/nbformat/v4/convert.py\", line 13, in <module>\n",
      "\u001b[1;31m    from .. import validator\n",
      "\u001b[1;31m  File \"/home/ojus/.local/lib/python3.10/site-packages/nbformat/validator.py\", line 13, in <module>\n",
      "\u001b[1;31m    from .json_compat import ValidationError, _validator_for_name, get_current_validator\n",
      "\u001b[1;31m  File \"/home/ojus/.local/lib/python3.10/site-packages/nbformat/json_compat.py\", line 11, in <module>\n",
      "\u001b[1;31m    import jsonschema\n",
      "\u001b[1;31m  File \"/home/ojus/.local/lib/python3.10/site-packages/jsonschema/__init__.py\", line 12, in <module>\n",
      "\u001b[1;31m    from jsonschema._format import (\n",
      "\u001b[1;31m  File \"/home/ojus/.local/lib/python3.10/site-packages/jsonschema/_format.py\", line 10, in <module>\n",
      "\u001b[1;31m    from jsonschema.exceptions import FormatError\n",
      "\u001b[1;31m  File \"/home/ojus/.local/lib/python3.10/site-packages/jsonschema/exceptions.py\", line 178, in <module>\n",
      "\u001b[1;31m    @attr.s(hash=True)\n",
      "\u001b[1;31mAttributeError: module 'attr' has no attribute 's'\n",
      "\u001b[1;31m\n",
      "\u001b[1;31mDuring handling of the above exception, another exception occurred:\n",
      "\u001b[1;31m\n",
      "\u001b[1;31mTraceback (most recent call last):\n",
      "\u001b[1;31m  File \"/home/ojus/.vscode/extensions/ms-toolsai.jupyter-2022.9.1202862440/pythonFiles/vscode_datascience_helpers/daemon/daemon_python.py\", line 54, in _decorator\n",
      "\u001b[1;31m    return func(self, *args, **kwargs)\n",
      "\u001b[1;31m  File \"/home/ojus/.vscode/extensions/ms-toolsai.jupyter-2022.9.1202862440/pythonFiles/vscode_datascience_helpers/jupyter_daemon.py\", line 111, in m_exec_module_observable\n",
      "\u001b[1;31m    self._start_notebook(args, cwd, env)\n",
      "\u001b[1;31m  File \"/home/ojus/.vscode/extensions/ms-toolsai.jupyter-2022.9.1202862440/pythonFiles/vscode_datascience_helpers/jupyter_daemon.py\", line 160, in _start_notebook\n",
      "\u001b[1;31m    from notebook import app as app\n",
      "\u001b[1;31mImportError: cannot import name 'app' from 'notebook' (/home/ojus/.local/lib/python3.10/site-packages/notebook/__init__.py)\n",
      "\u001b[1;31m\n",
      "\u001b[1;31mFailed to run jupyter as observable with args notebook --no-browser --notebook-dir=\"/home/ojus/Personal/college_resources/Sem_V/Subjects/RL/Assignments/Assignment2\" --config=/tmp/9a1a9f5a-42ac-4d15-80a8-4d960389d578/jupyter_notebook_config.py --NotebookApp.iopub_data_rate_limit=10000000000.0. \n",
      "\u001b[1;31mView Jupyter <a href='command:jupyter.viewOutput'>log</a> for further details."
     ]
    }
   ],
   "source": [
    "import numpy as np"
   ]
  },
  {
   "cell_type": "code",
   "execution_count": null,
   "metadata": {},
   "outputs": [
    {
     "ename": "",
     "evalue": "",
     "output_type": "error",
     "traceback": [
      "\u001b[1;31mFailed to start the Kernel. \n",
      "\u001b[1;31mTraceback (most recent call last):\n",
      "\u001b[1;31m  File \"/home/ojus/.vscode/extensions/ms-toolsai.jupyter-2022.9.1202862440/pythonFiles/vscode_datascience_helpers/jupyter_daemon.py\", line 158, in _start_notebook\n",
      "\u001b[1;31m    from notebook import notebookapp as app\n",
      "\u001b[1;31m  File \"/home/ojus/.local/lib/python3.10/site-packages/notebook/notebookapp.py\", line 79, in <module>\n",
      "\u001b[1;31m    from .services.contents.manager import ContentsManager\n",
      "\u001b[1;31m  File \"/home/ojus/.local/lib/python3.10/site-packages/notebook/services/contents/manager.py\", line 17, in <module>\n",
      "\u001b[1;31m    from nbformat import sign, validate as validate_nb, ValidationError\n",
      "\u001b[1;31m  File \"/home/ojus/.local/lib/python3.10/site-packages/nbformat/__init__.py\", line 11, in <module>\n",
      "\u001b[1;31m    from . import v1, v2, v3, v4\n",
      "\u001b[1;31m  File \"/home/ojus/.local/lib/python3.10/site-packages/nbformat/v4/__init__.py\", line 39, in <module>\n",
      "\u001b[1;31m    from .convert import downgrade, upgrade\n",
      "\u001b[1;31m  File \"/home/ojus/.local/lib/python3.10/site-packages/nbformat/v4/convert.py\", line 13, in <module>\n",
      "\u001b[1;31m    from .. import validator\n",
      "\u001b[1;31m  File \"/home/ojus/.local/lib/python3.10/site-packages/nbformat/validator.py\", line 13, in <module>\n",
      "\u001b[1;31m    from .json_compat import ValidationError, _validator_for_name, get_current_validator\n",
      "\u001b[1;31m  File \"/home/ojus/.local/lib/python3.10/site-packages/nbformat/json_compat.py\", line 11, in <module>\n",
      "\u001b[1;31m    import jsonschema\n",
      "\u001b[1;31m  File \"/home/ojus/.local/lib/python3.10/site-packages/jsonschema/__init__.py\", line 12, in <module>\n",
      "\u001b[1;31m    from jsonschema._format import (\n",
      "\u001b[1;31m  File \"/home/ojus/.local/lib/python3.10/site-packages/jsonschema/_format.py\", line 10, in <module>\n",
      "\u001b[1;31m    from jsonschema.exceptions import FormatError\n",
      "\u001b[1;31m  File \"/home/ojus/.local/lib/python3.10/site-packages/jsonschema/exceptions.py\", line 12, in <module>\n",
      "\u001b[1;31m    import attr\n",
      "\u001b[1;31mModuleNotFoundError: No module named 'attr'\n",
      "\u001b[1;31m\n",
      "\u001b[1;31mDuring handling of the above exception, another exception occurred:\n",
      "\u001b[1;31m\n",
      "\u001b[1;31mTraceback (most recent call last):\n",
      "\u001b[1;31m  File \"/home/ojus/.vscode/extensions/ms-toolsai.jupyter-2022.9.1202862440/pythonFiles/vscode_datascience_helpers/daemon/daemon_python.py\", line 54, in _decorator\n",
      "\u001b[1;31m    return func(self, *args, **kwargs)\n",
      "\u001b[1;31m  File \"/home/ojus/.vscode/extensions/ms-toolsai.jupyter-2022.9.1202862440/pythonFiles/vscode_datascience_helpers/jupyter_daemon.py\", line 111, in m_exec_module_observable\n",
      "\u001b[1;31m    self._start_notebook(args, cwd, env)\n",
      "\u001b[1;31m  File \"/home/ojus/.vscode/extensions/ms-toolsai.jupyter-2022.9.1202862440/pythonFiles/vscode_datascience_helpers/jupyter_daemon.py\", line 160, in _start_notebook\n",
      "\u001b[1;31m    from notebook import app as app\n",
      "\u001b[1;31mImportError: cannot import name 'app' from 'notebook' (/home/ojus/.local/lib/python3.10/site-packages/notebook/__init__.py)\n",
      "\u001b[1;31m\n",
      "\u001b[1;31mFailed to run jupyter as observable with args notebook --no-browser --notebook-dir=\"/home/ojus/Personal/college_resources/Sem_V/Subjects/RL/Assignments/Assignment2\" --config=/tmp/74922c35-be50-4605-9529-727a2988a11a/jupyter_notebook_config.py --NotebookApp.iopub_data_rate_limit=10000000000.0. \n",
      "\u001b[1;31mView Jupyter <a href='command:jupyter.viewOutput'>log</a> for further details."
     ]
    }
   ],
   "source": [
    "[i for i in range(-5, 6)]"
   ]
  }
 ],
 "metadata": {
  "kernelspec": {
   "display_name": "Python 3.10.6 64-bit",
   "language": "python",
   "name": "python3"
  },
  "language_info": {
   "codemirror_mode": {
    "name": "ipython",
    "version": 3
   },
   "file_extension": ".py",
   "mimetype": "text/x-python",
   "name": "python",
   "nbconvert_exporter": "python",
   "pygments_lexer": "ipython3",
   "version": "3.10.6"
  },
  "orig_nbformat": 4,
  "vscode": {
   "interpreter": {
    "hash": "31f2aee4e71d21fbe5cf8b01ff0e069b9275f58929596ceb00d14d90e3e16cd6"
   }
  }
 },
 "nbformat": 4,
 "nbformat_minor": 2
}
