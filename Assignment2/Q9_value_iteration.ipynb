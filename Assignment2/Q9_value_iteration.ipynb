{
 "cells": [
  {
   "cell_type": "code",
   "execution_count": 19,
   "metadata": {},
   "outputs": [],
   "source": [
    "import numpy as np\n",
    "import matplotlib.pyplot as plt"
   ]
  },
  {
   "cell_type": "code",
   "execution_count": 20,
   "metadata": {},
   "outputs": [],
   "source": [
    "def value_eval(s, v_pi, grid_size):\n",
    "    maxi = -1e9\n",
    "\n",
    "    ## move left\n",
    "    if (s % 4) > 0: maxi = max(maxi, v_pi[s - 1] - 1)\n",
    "    ## move right\n",
    "    if ((s + 1) % 4) > 0: maxi = max(maxi, v_pi[s + 1] - 1)\n",
    "    ## move up\n",
    "    if s > 3    : maxi = max(maxi, v_pi[s - grid_size] - 1)\n",
    "    ## move down\n",
    "    if s < 12    : maxi = max(maxi, v_pi[s + grid_size] - 1)\n",
    "\n",
    "    v_pi[s] = maxi\n",
    "\n",
    "    return v_pi\n",
    "\n",
    "def neighbor_values(s, v_pi):\n",
    "    vals = np.zeros([4], dtype='f')\n",
    "\n",
    "    ## left\n",
    "    if (s % 4) > 0  : vals[0] = v_pi[s - 1]\n",
    "    else            : vals[0] = -np.Infinity\n",
    "    ## right\n",
    "    if ((s + 1) % 4) > 0: vals[1] = v_pi[s + 1]\n",
    "    else                : vals[1] = -np.Infinity\n",
    "    ## up\n",
    "    if s > 3    : vals[2] = v_pi[s - 4]\n",
    "    else        : vals[2] = -np.Infinity\n",
    "    ## down\n",
    "    if s < 12   : vals[3] = v_pi[s + 4]\n",
    "    else        : vals[3] = -np.Infinity\n",
    "\n",
    "    return vals\n",
    "\n",
    "def get_policy(pi):\n",
    "    actions = {\n",
    "        0: \"L\",\n",
    "        1: \"R\",\n",
    "        2: \"U\",\n",
    "        3: \"D\"\n",
    "    }\n",
    "\n",
    "    policy = np.full(pi.shape[0], ['U'])\n",
    "    for i in range(policy.shape[0]):\n",
    "        policy[i] = actions[np.argmax(pi[i])]\n",
    "\n",
    "    return policy.reshape([4, 4])\n"
   ]
  },
  {
   "cell_type": "code",
   "execution_count": 21,
   "metadata": {},
   "outputs": [
    {
     "name": "stdout",
     "output_type": "stream",
     "text": [
      "\n",
      "\n",
      "Final Iteration\n",
      "Values:\n",
      "[[ 0. -1. -2. -3.]\n",
      " [-1. -2. -3. -2.]\n",
      " [-2. -3. -2. -1.]\n",
      " [-3. -2. -1.  0.]]\n",
      "Greedy policy\n",
      "[['L' 'L' 'L' 'L']\n",
      " ['U' 'L' 'L' 'D']\n",
      " ['U' 'L' 'R' 'D']\n",
      " ['R' 'R' 'R' 'L']]\n",
      "\n",
      "\n",
      "Total value iterations taken for convergence: 3\n"
     ]
    }
   ],
   "source": [
    "## parameters\n",
    "gamma = 1.0\n",
    "grid_size = 4\n",
    "states = int(grid_size ** 2)\n",
    "\n",
    "## random initial values and arbitrary initial policy\n",
    "v_pi = np.random.normal(-10, 1, size=[states])\n",
    "v_pi[0] = 0.0\n",
    "v_pi[15] = 0.0\n",
    "\n",
    "## random so that loop doesn't break in first iteration\n",
    "old_v_pi = np.random.normal(10, 1, size=[states]) \n",
    "\n",
    "\n",
    "value_iterations = 0\n",
    "epsilon = 1e-12\n",
    "\n",
    "## value iteration\n",
    "value_converged = False\n",
    "while not value_converged:\n",
    "    value_iterations += 1\n",
    "\n",
    "    old_v_pi = np.copy(v_pi)\n",
    "    for s in range(1, 15):  \n",
    "        v_pi = value_eval(s, v_pi, grid_size)\n",
    "\n",
    "    if (np.all(abs(old_v_pi - v_pi) <= epsilon)):\n",
    "        value_converged = True\n",
    "\n",
    "## greedy policy\n",
    "pi_s = np.full([states, 4], 0.0) ## [left, right, up, down]\n",
    "for s in range(1, 15):\n",
    "    pi_s[s] = np.zeros([4])\n",
    "    greedy_action = np.argmax(neighbor_values(s, v_pi))\n",
    "    pi_s[s][greedy_action] = 1.0\n",
    "\n",
    "print(\"\\n\\nFinal Iteration\")\n",
    "print(\"Values:\")\n",
    "print(v_pi.reshape([4, 4]))\n",
    "print(\"Greedy policy\")\n",
    "print(get_policy(pi_s))\n",
    "print(\"\\n\\nTotal value iterations taken for convergence:\", value_iterations)"
   ]
  }
 ],
 "metadata": {
  "kernelspec": {
   "display_name": "Python 3.10.6 64-bit",
   "language": "python",
   "name": "python3"
  },
  "language_info": {
   "codemirror_mode": {
    "name": "ipython",
    "version": 3
   },
   "file_extension": ".py",
   "mimetype": "text/x-python",
   "name": "python",
   "nbconvert_exporter": "python",
   "pygments_lexer": "ipython3",
   "version": "3.10.7"
  },
  "orig_nbformat": 4,
  "vscode": {
   "interpreter": {
    "hash": "31f2aee4e71d21fbe5cf8b01ff0e069b9275f58929596ceb00d14d90e3e16cd6"
   }
  }
 },
 "nbformat": 4,
 "nbformat_minor": 2
}
