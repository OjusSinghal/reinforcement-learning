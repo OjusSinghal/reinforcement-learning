{
 "cells": [
  {
   "cell_type": "code",
   "execution_count": 10,
   "metadata": {},
   "outputs": [
    {
     "name": "stdout",
     "output_type": "stream",
     "text": [
      "[[ 3.3  8.8  4.4  5.3  1.5]\n",
      " [ 1.5  3.   2.3  1.9  0.5]\n",
      " [ 0.1  0.7  0.7  0.4 -0.4]\n",
      " [-1.  -0.4 -0.4 -0.6 -1.2]\n",
      " [-1.9 -1.3 -1.2 -1.4 -2. ]]\n"
     ]
    }
   ],
   "source": [
    "import numpy as np\n",
    "\n",
    "# There are 25 variables, namely the state values of each of the cell in the 5x5 grid\n",
    "# We also have 25 bellman eqautions, one for each state, with the same 25 varibles\n",
    "# We will solve this using matrices by solving:\n",
    "# Ax = B ==> x = inv(A)B\n",
    "\n",
    "# Let the top left cell be [0, 0] and the bottom right cell be [4, 4]\n",
    "# Let the cell in the cth column and rth row be numbered as 5 * r + c\n",
    "# The special cases then are:\n",
    "#       1 --> 21 (reward +10)\n",
    "#       3 --> 13 (reward +5)\n",
    "\n",
    "gamma = 0.90\n",
    "n = 25\n",
    "A = np.zeros([n, n], dtype='f')\n",
    "B = np.zeros([n, 1], dtype='f')\n",
    "\n",
    "for i in range(n):\n",
    "    ## We add coefficients to the corresponding equation, refering to each of the four actions\n",
    "    A[i][i] = 1.0\n",
    "    if i == 1:\n",
    "        ## special case 1\n",
    "        B[i][0] += 10.0\n",
    "        A[i][21] += -gamma\n",
    "        \n",
    "    elif i == 3:\n",
    "        ## special case 2\n",
    "        B[i][0] += 5.0\n",
    "        A[i][13] += -gamma\n",
    "\n",
    "    else:\n",
    "        ## left\n",
    "        if (i % 5) == 0:\n",
    "            ## can't go left\n",
    "            B[i][0] += (-0.25)\n",
    "            A[i][i] += gamma * (-0.25)\n",
    "        else:\n",
    "            ## go left\n",
    "            A[i][i - 1] += gamma * (-0.25)\n",
    "\n",
    "        ## right\n",
    "        if ((i + 1) % 5) == 0:\n",
    "            ## can't go right\n",
    "            B[i][0] += (-0.25)\n",
    "            A[i][i] += gamma * (-0.25)\n",
    "        else:\n",
    "            ## go right\n",
    "            A[i][i + 1] += gamma * (-0.25)\n",
    "        \n",
    "        ## up\n",
    "        if i < 5:\n",
    "            ## can't go up\n",
    "            B[i][0] += (-0.25)\n",
    "            A[i][i] += gamma * (-0.25)\n",
    "        else:\n",
    "            ## go up\n",
    "            A[i][i - 5] += gamma * (-0.25)\n",
    "\n",
    "        ## down\n",
    "        if i > 19:\n",
    "            ## can't go down\n",
    "            B[i][0] += (-0.25)\n",
    "            A[i][i] += gamma * (-0.25)\n",
    "        else:\n",
    "            ## go down\n",
    "            A[i][i + 5] += gamma * (-0.25)\n",
    "\n",
    "\n",
    "v = np.dot(np.linalg.inv(A), B)\n",
    "print(np.round(v, 1).reshape([5, 5]))"
   ]
  }
 ],
 "metadata": {
  "kernelspec": {
   "display_name": "Python 3.10.6 64-bit",
   "language": "python",
   "name": "python3"
  },
  "language_info": {
   "codemirror_mode": {
    "name": "ipython",
    "version": 3
   },
   "file_extension": ".py",
   "mimetype": "text/x-python",
   "name": "python",
   "nbconvert_exporter": "python",
   "pygments_lexer": "ipython3",
   "version": "3.10.6"
  },
  "orig_nbformat": 4,
  "vscode": {
   "interpreter": {
    "hash": "31f2aee4e71d21fbe5cf8b01ff0e069b9275f58929596ceb00d14d90e3e16cd6"
   }
  }
 },
 "nbformat": 4,
 "nbformat_minor": 2
}
